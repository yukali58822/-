{
  "nbformat": 4,
  "nbformat_minor": 0,
  "metadata": {
    "colab": {
      "provenance": [],
      "authorship_tag": "ABX9TyN2aqeXN+SOyXY39MZKK4zR",
      "include_colab_link": true
    },
    "kernelspec": {
      "name": "python3",
      "display_name": "Python 3"
    },
    "language_info": {
      "name": "python"
    }
  },
  "cells": [
    {
      "cell_type": "markdown",
      "metadata": {
        "id": "view-in-github",
        "colab_type": "text"
      },
      "source": [
        "<a href=\"https://colab.research.google.com/github/yukali58822/-/blob/main/opendata.ipynb\" target=\"_parent\"><img src=\"https://colab.research.google.com/assets/colab-badge.svg\" alt=\"Open In Colab\"/></a>"
      ]
    },
    {
      "cell_type": "code",
      "execution_count": null,
      "metadata": {
        "id": "X5pA61iF9byn"
      },
      "outputs": [],
      "source": [
        "import requests, json\n",
        "url = \"https://datacenter.taichung.gov.tw/swagger/OpenData/db36e286-1d2b-4784-99b9-3b0790dd9652\"\n",
        "Data = requests.get(url)\n",
        "# print(Data.text)\n",
        "JsonData = json.loads(Data.text) # json轉字典\n",
        "Result = \"\"\n",
        "for item in JsonData:\n",
        "    Result += item['路口名稱']\n"
      ]
    }
  ]
}